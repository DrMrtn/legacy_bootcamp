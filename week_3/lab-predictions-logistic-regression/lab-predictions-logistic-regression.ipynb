{
 "cells": [
  {
   "cell_type": "code",
   "execution_count": 1,
   "id": "fd6c2f79",
   "metadata": {},
   "outputs": [],
   "source": [
    "### The lab was done already by Ultimate-Gryffindor-Teamwork-Supreme\n",
    "### Though, this lab is yet to be finished. I want to clean up a lot more and trying out a few things\n",
    "### myself. Just to see if the models improves or not."
   ]
  },
  {
   "cell_type": "code",
   "execution_count": 2,
   "id": "cbc66455",
   "metadata": {},
   "outputs": [
    {
     "name": "stdout",
     "output_type": "stream",
     "text": [
      "········\n"
     ]
    }
   ],
   "source": [
    "# prep: import modules and get pwd\n",
    "import seaborn as sns\n",
    "import matplotlib.pyplot as plt\n",
    "import pymysql\n",
    "import numpy as np\n",
    "from sqlalchemy import create_engine\n",
    "import pandas as pd\n",
    "import getpass  # To get the password without showing the input\n",
    "password = getpass.getpass()"
   ]
  },
  {
   "cell_type": "code",
   "execution_count": 3,
   "id": "73716d20",
   "metadata": {},
   "outputs": [],
   "source": [
    "connection_string = 'mysql+pymysql://root:' + password + '@localhost/sakila'\n",
    "engine = create_engine(connection_string)"
   ]
  },
  {
   "cell_type": "code",
   "execution_count": 4,
   "id": "444dd719",
   "metadata": {},
   "outputs": [],
   "source": [
    "# 1.\n",
    "# Create a query or queries to extract the information you think may be relevant for building the prediction model. \n",
    "# It should include some film features and some rental features. Use the data from 2005."
   ]
  },
  {
   "cell_type": "code",
   "execution_count": 5,
   "id": "a4afd83b",
   "metadata": {},
   "outputs": [],
   "source": [
    "# \n",
    "query = '''\n",
    "select\n",
    "\n",
    "c.name as 'genre',\n",
    "f.rental_duration,\n",
    "f.rental_rate,\n",
    "f.length,\n",
    "f.rating,\n",
    "f.special_features,\n",
    "p.amount,\n",
    "case \n",
    "when rental_date like \"2005-05-%%\" then True\n",
    "else False \n",
    "end as 'rented' -- target\n",
    "\n",
    "from language l\n",
    "join film f using (language_id)\n",
    "join film_category fc using (film_id)\n",
    "join category c using (category_id)\n",
    "join inventory i using (film_id)\n",
    "join rental r using (inventory_id)\n",
    "join payment p using (customer_id)\n",
    "\n",
    "group by film_id;\n",
    "'''\n",
    "features = pd.read_sql_query(query, engine)"
   ]
  },
  {
   "cell_type": "code",
   "execution_count": null,
   "id": "5035a782",
   "metadata": {},
   "outputs": [],
   "source": []
  },
  {
   "cell_type": "code",
   "execution_count": 6,
   "id": "05b09aef",
   "metadata": {},
   "outputs": [
    {
     "data": {
      "text/plain": [
       "(958, 8)"
      ]
     },
     "metadata": {},
     "output_type": "display_data"
    },
    {
     "data": {
      "text/html": [
       "<div>\n",
       "<style scoped>\n",
       "    .dataframe tbody tr th:only-of-type {\n",
       "        vertical-align: middle;\n",
       "    }\n",
       "\n",
       "    .dataframe tbody tr th {\n",
       "        vertical-align: top;\n",
       "    }\n",
       "\n",
       "    .dataframe thead th {\n",
       "        text-align: right;\n",
       "    }\n",
       "</style>\n",
       "<table border=\"1\" class=\"dataframe\">\n",
       "  <thead>\n",
       "    <tr style=\"text-align: right;\">\n",
       "      <th></th>\n",
       "      <th>genre</th>\n",
       "      <th>rental_duration</th>\n",
       "      <th>rental_rate</th>\n",
       "      <th>length</th>\n",
       "      <th>rating</th>\n",
       "      <th>special_features</th>\n",
       "      <th>amount</th>\n",
       "      <th>rented</th>\n",
       "    </tr>\n",
       "  </thead>\n",
       "  <tbody>\n",
       "    <tr>\n",
       "      <th>0</th>\n",
       "      <td>Documentary</td>\n",
       "      <td>6</td>\n",
       "      <td>0.99</td>\n",
       "      <td>86</td>\n",
       "      <td>PG</td>\n",
       "      <td>Deleted Scenes,Behind the Scenes</td>\n",
       "      <td>2.99</td>\n",
       "      <td>0</td>\n",
       "    </tr>\n",
       "    <tr>\n",
       "      <th>1</th>\n",
       "      <td>Horror</td>\n",
       "      <td>3</td>\n",
       "      <td>4.99</td>\n",
       "      <td>48</td>\n",
       "      <td>G</td>\n",
       "      <td>Trailers,Deleted Scenes</td>\n",
       "      <td>8.99</td>\n",
       "      <td>0</td>\n",
       "    </tr>\n",
       "    <tr>\n",
       "      <th>2</th>\n",
       "      <td>Documentary</td>\n",
       "      <td>7</td>\n",
       "      <td>2.99</td>\n",
       "      <td>50</td>\n",
       "      <td>NC-17</td>\n",
       "      <td>Trailers,Deleted Scenes</td>\n",
       "      <td>7.99</td>\n",
       "      <td>0</td>\n",
       "    </tr>\n",
       "    <tr>\n",
       "      <th>3</th>\n",
       "      <td>Horror</td>\n",
       "      <td>5</td>\n",
       "      <td>2.99</td>\n",
       "      <td>117</td>\n",
       "      <td>G</td>\n",
       "      <td>Commentaries,Behind the Scenes</td>\n",
       "      <td>2.99</td>\n",
       "      <td>0</td>\n",
       "    </tr>\n",
       "    <tr>\n",
       "      <th>4</th>\n",
       "      <td>Family</td>\n",
       "      <td>6</td>\n",
       "      <td>2.99</td>\n",
       "      <td>130</td>\n",
       "      <td>G</td>\n",
       "      <td>Deleted Scenes</td>\n",
       "      <td>3.99</td>\n",
       "      <td>1</td>\n",
       "    </tr>\n",
       "  </tbody>\n",
       "</table>\n",
       "</div>"
      ],
      "text/plain": [
       "         genre  rental_duration  rental_rate  length rating  \\\n",
       "0  Documentary                6         0.99      86     PG   \n",
       "1       Horror                3         4.99      48      G   \n",
       "2  Documentary                7         2.99      50  NC-17   \n",
       "3       Horror                5         2.99     117      G   \n",
       "4       Family                6         2.99     130      G   \n",
       "\n",
       "                   special_features  amount  rented  \n",
       "0  Deleted Scenes,Behind the Scenes    2.99       0  \n",
       "1           Trailers,Deleted Scenes    8.99       0  \n",
       "2           Trailers,Deleted Scenes    7.99       0  \n",
       "3    Commentaries,Behind the Scenes    2.99       0  \n",
       "4                    Deleted Scenes    3.99       1  "
      ]
     },
     "metadata": {},
     "output_type": "display_data"
    },
    {
     "data": {
      "text/plain": [
       "genre                16\n",
       "rental_duration       5\n",
       "rental_rate           3\n",
       "length              140\n",
       "rating                5\n",
       "special_features     15\n",
       "amount               11\n",
       "rented                2\n",
       "dtype: int64"
      ]
     },
     "metadata": {},
     "output_type": "display_data"
    }
   ],
   "source": [
    "display(features.shape)\n",
    "display(features.head())\n",
    "display(features.nunique())"
   ]
  },
  {
   "cell_type": "code",
   "execution_count": null,
   "id": "5899618c",
   "metadata": {},
   "outputs": [],
   "source": []
  },
  {
   "cell_type": "code",
   "execution_count": 7,
   "id": "e9623946",
   "metadata": {},
   "outputs": [
    {
     "data": {
      "text/plain": [
       "array(['Documentary', 'Horror', 'Family', 'Foreign', 'Comedy', 'Sports',\n",
       "       'Music', 'Animation', 'Action', 'New', 'Sci-Fi', 'Classics',\n",
       "       'Games', 'Children', 'Travel', 'Drama'], dtype=object)"
      ]
     },
     "metadata": {},
     "output_type": "display_data"
    },
    {
     "data": {
      "text/plain": [
       "array([6, 3, 7, 5, 4], dtype=int64)"
      ]
     },
     "metadata": {},
     "output_type": "display_data"
    },
    {
     "data": {
      "text/plain": [
       "array([0.99, 4.99, 2.99])"
      ]
     },
     "metadata": {},
     "output_type": "display_data"
    },
    {
     "data": {
      "text/plain": [
       "array([ 86,  48,  50, 117, 130, 169,  62,  54, 114,  63, 126, 136, 150,\n",
       "        46, 180,  82,  57, 113,  79, 129,  85,  92, 181,  74, 179,  91,\n",
       "       168, 119, 147, 121,  99, 148, 170,  83, 108, 153, 118, 162, 182,\n",
       "        75, 173,  87,  65,  90, 122, 160,  89, 175, 106,  73, 151, 100,\n",
       "        53,  77, 142,  93, 163, 103,  61,  71, 102,  98,  72, 176, 123,\n",
       "        56, 161,  60, 133, 125,  52, 120, 167,  70, 135, 112, 110, 152,\n",
       "        51, 146,  66, 185, 124, 107, 101, 143, 165,  81, 164,  58,  95,\n",
       "       139,  55, 149, 109,  67,  76, 172, 115, 184, 166,  64, 104,  69,\n",
       "        84, 144,  59,  88, 141,  94,  68,  47,  49, 177, 154, 159, 178,\n",
       "        96, 116, 132, 171, 140, 155, 158, 174, 138,  97, 131, 156,  80,\n",
       "       111, 183, 128, 137, 127, 157,  78, 105, 134, 145], dtype=int64)"
      ]
     },
     "metadata": {},
     "output_type": "display_data"
    },
    {
     "data": {
      "text/plain": [
       "array(['PG', 'G', 'NC-17', 'PG-13', 'R'], dtype=object)"
      ]
     },
     "metadata": {},
     "output_type": "display_data"
    },
    {
     "data": {
      "text/plain": [
       "4.99     220\n",
       "0.99     200\n",
       "2.99     189\n",
       "5.99      77\n",
       "6.99      76\n",
       "3.99      74\n",
       "7.99      36\n",
       "1.99      29\n",
       "9.99      26\n",
       "8.99      25\n",
       "11.99      6\n",
       "Name: amount, dtype: int64"
      ]
     },
     "metadata": {},
     "output_type": "display_data"
    },
    {
     "data": {
      "text/plain": [
       "array(['Deleted Scenes,Behind the Scenes', 'Trailers,Deleted Scenes',\n",
       "       'Commentaries,Behind the Scenes', 'Deleted Scenes', 'Trailers',\n",
       "       'Commentaries,Deleted Scenes',\n",
       "       'Trailers,Commentaries,Behind the Scenes', 'Trailers,Commentaries',\n",
       "       'Trailers,Behind the Scenes',\n",
       "       'Commentaries,Deleted Scenes,Behind the Scenes',\n",
       "       'Trailers,Commentaries,Deleted Scenes',\n",
       "       'Trailers,Deleted Scenes,Behind the Scenes', 'Behind the Scenes',\n",
       "       'Trailers,Commentaries,Deleted Scenes,Behind the Scenes',\n",
       "       'Commentaries'], dtype=object)"
      ]
     },
     "metadata": {},
     "output_type": "display_data"
    }
   ],
   "source": [
    "display(features['genre'].unique()) # usable\n",
    "display(features['rental_duration'].unique()) # usable\n",
    "display(features['rental_rate'].unique()) # useable \n",
    "display(features['length'].unique()) # usable\n",
    "display(features['rating'].unique()) # usable\n",
    "display(features['amount'].value_counts()) # usable\n",
    "display(features['special_features'].unique()) # splitting"
   ]
  },
  {
   "cell_type": "code",
   "execution_count": 8,
   "id": "5e71afe7",
   "metadata": {},
   "outputs": [],
   "source": [
    "# dealing with special_features\n",
    "# putting every special feature in a extra list, then adding it to features dataframe\n",
    "###### trailers\n",
    "trailers=[]\n",
    "for i in features[\"special_features\"]:\n",
    "    if \"Trailers\" in i == \"Trailers\":\n",
    "        trailers.append(1)\n",
    "    else:\n",
    "        trailers.append(0)\n",
    "features[\"trailers\"] = trailers  \n",
    "\n",
    "###### behind the scenes\n",
    "bscenes=[]\n",
    "for i in features[\"special_features\"]:\n",
    "    if \"Behind the Scenes\" in i == \"Behind the Scenes\":\n",
    "        bscenes.append(1)\n",
    "    else:\n",
    "        bscenes.append(0)\n",
    "        \n",
    "features[\"behind_the_scenes\"] = bscenes  \n",
    "\n",
    "###### commentaries     \n",
    "comment=[]\n",
    "for i in features[\"special_features\"]:\n",
    "    if \"Commentaries\" in i == \"Commentaries\":\n",
    "        comment.append(1)\n",
    "    else:\n",
    "        comment.append(0)\n",
    "\n",
    "features[\"commentaries\"] = comment \n",
    "\n",
    "###### deleted scenes\n",
    "dscenes=[]\n",
    "for i in features[\"special_features\"]:\n",
    "    if \"Deleted Scenes\" in i == \"Deleted Scenes\":\n",
    "        dscenes.append(1)\n",
    "    else:\n",
    "        dscenes.append(0)\n",
    "        \n",
    "features[\"deleted_scenes\"] = dscenes "
   ]
  },
  {
   "cell_type": "code",
   "execution_count": 9,
   "id": "e258ef68",
   "metadata": {},
   "outputs": [
    {
     "name": "stdout",
     "output_type": "stream",
     "text": [
      "<class 'pandas.core.frame.DataFrame'>\n",
      "RangeIndex: 958 entries, 0 to 957\n",
      "Data columns (total 12 columns):\n",
      " #   Column             Non-Null Count  Dtype  \n",
      "---  ------             --------------  -----  \n",
      " 0   genre              958 non-null    object \n",
      " 1   rental_duration    958 non-null    int64  \n",
      " 2   rental_rate        958 non-null    float64\n",
      " 3   length             958 non-null    int64  \n",
      " 4   rating             958 non-null    object \n",
      " 5   special_features   958 non-null    object \n",
      " 6   amount             958 non-null    float64\n",
      " 7   rented             958 non-null    int64  \n",
      " 8   trailers           958 non-null    int64  \n",
      " 9   behind_the_scenes  958 non-null    int64  \n",
      " 10  commentaries       958 non-null    int64  \n",
      " 11  deleted_scenes     958 non-null    int64  \n",
      "dtypes: float64(2), int64(7), object(3)\n",
      "memory usage: 89.9+ KB\n"
     ]
    }
   ],
   "source": [
    "features.info()"
   ]
  },
  {
   "cell_type": "code",
   "execution_count": 10,
   "id": "5d772cbf",
   "metadata": {},
   "outputs": [],
   "source": [
    "# 2.\n",
    "# Create a query to get the list of films and a boolean indicating if it was rented last month (May 2005). \n",
    "# This would be our target variable."
   ]
  },
  {
   "cell_type": "code",
   "execution_count": 11,
   "id": "eebd1881",
   "metadata": {},
   "outputs": [],
   "source": [
    "# target is already in features\n",
    "# query = '''\n",
    "# select\n",
    "# film_id,\n",
    "# count(*) as film_rented,\n",
    "# case \n",
    "# when rental_date like \"2005-05-%%\" then True\n",
    "# else False \n",
    "# end as 'rented' -- target\n",
    "\n",
    "# from rental\n",
    "# join inventory using (inventory_id)\n",
    "# join film using (film_id)\n",
    "# group by film_id\n",
    "# ;\n",
    "# '''\n",
    "# # count(*) as film_rented,\n"
   ]
  },
  {
   "cell_type": "code",
   "execution_count": 12,
   "id": "82809f36",
   "metadata": {},
   "outputs": [],
   "source": [
    "# 3.\n",
    "# Read the data into a Pandas dataframe."
   ]
  },
  {
   "cell_type": "code",
   "execution_count": 13,
   "id": "226f5db7",
   "metadata": {},
   "outputs": [
    {
     "data": {
      "text/plain": [
       "0    733\n",
       "1    225\n",
       "Name: rented, dtype: int64"
      ]
     },
     "execution_count": 13,
     "metadata": {},
     "output_type": "execute_result"
    }
   ],
   "source": [
    "# target dataframe\n",
    "# x - y - split\n",
    "y = features.rented\n",
    "y.value_counts()"
   ]
  },
  {
   "cell_type": "code",
   "execution_count": 14,
   "id": "8178c282",
   "metadata": {},
   "outputs": [
    {
     "data": {
      "text/plain": [
       "<AxesSubplot:>"
      ]
     },
     "execution_count": 14,
     "metadata": {},
     "output_type": "execute_result"
    },
    {
     "data": {
      "image/png": "[encoded data removed]",
      "text/plain": [
       "<Figure size 432x288 with 2 Axes>"
      ]
     },
     "metadata": {
      "needs_background": "light"
     },
     "output_type": "display_data"
    }
   ],
   "source": [
    "# 4.\n",
    "# Analyze extracted features and transform them. \n",
    "# You may need to encode some categorical variables, or scale numerical variables.\n",
    "X = features.drop(['rented','special_features'],axis=1)\n",
    "sns.heatmap(X.corr())"
   ]
  },
  {
   "cell_type": "code",
   "execution_count": 15,
   "id": "fb9a85a1",
   "metadata": {},
   "outputs": [],
   "source": [
    "# train/test split\n",
    "from sklearn.model_selection import train_test_split\n",
    "X_train, X_test, y_train, y_test = train_test_split(X, y, test_size=0.3, random_state=1337)"
   ]
  },
  {
   "cell_type": "code",
   "execution_count": 16,
   "id": "1a6b656f",
   "metadata": {},
   "outputs": [],
   "source": [
    "## transforming nums"
   ]
  },
  {
   "cell_type": "code",
   "execution_count": 17,
   "id": "1338932f",
   "metadata": {},
   "outputs": [
    {
     "data": {
      "text/html": [
       "<div>\n",
       "<style scoped>\n",
       "    .dataframe tbody tr th:only-of-type {\n",
       "        vertical-align: middle;\n",
       "    }\n",
       "\n",
       "    .dataframe tbody tr th {\n",
       "        vertical-align: top;\n",
       "    }\n",
       "\n",
       "    .dataframe thead th {\n",
       "        text-align: right;\n",
       "    }\n",
       "</style>\n",
       "<table border=\"1\" class=\"dataframe\">\n",
       "  <thead>\n",
       "    <tr style=\"text-align: right;\">\n",
       "      <th></th>\n",
       "      <th>rental_duration</th>\n",
       "      <th>rental_rate</th>\n",
       "      <th>length</th>\n",
       "      <th>amount</th>\n",
       "      <th>trailers</th>\n",
       "      <th>behind_the_scenes</th>\n",
       "      <th>commentaries</th>\n",
       "      <th>deleted_scenes</th>\n",
       "    </tr>\n",
       "  </thead>\n",
       "  <tbody>\n",
       "    <tr>\n",
       "      <th>741</th>\n",
       "      <td>4</td>\n",
       "      <td>4.99</td>\n",
       "      <td>110</td>\n",
       "      <td>4.99</td>\n",
       "      <td>1</td>\n",
       "      <td>0</td>\n",
       "      <td>0</td>\n",
       "      <td>0</td>\n",
       "    </tr>\n",
       "    <tr>\n",
       "      <th>681</th>\n",
       "      <td>6</td>\n",
       "      <td>2.99</td>\n",
       "      <td>73</td>\n",
       "      <td>4.99</td>\n",
       "      <td>1</td>\n",
       "      <td>0</td>\n",
       "      <td>0</td>\n",
       "      <td>0</td>\n",
       "    </tr>\n",
       "    <tr>\n",
       "      <th>628</th>\n",
       "      <td>3</td>\n",
       "      <td>0.99</td>\n",
       "      <td>128</td>\n",
       "      <td>2.99</td>\n",
       "      <td>0</td>\n",
       "      <td>0</td>\n",
       "      <td>0</td>\n",
       "      <td>0</td>\n",
       "    </tr>\n",
       "    <tr>\n",
       "      <th>225</th>\n",
       "      <td>4</td>\n",
       "      <td>0.99</td>\n",
       "      <td>68</td>\n",
       "      <td>9.99</td>\n",
       "      <td>0</td>\n",
       "      <td>0</td>\n",
       "      <td>0</td>\n",
       "      <td>0</td>\n",
       "    </tr>\n",
       "    <tr>\n",
       "      <th>861</th>\n",
       "      <td>7</td>\n",
       "      <td>0.99</td>\n",
       "      <td>144</td>\n",
       "      <td>4.99</td>\n",
       "      <td>0</td>\n",
       "      <td>0</td>\n",
       "      <td>0</td>\n",
       "      <td>0</td>\n",
       "    </tr>\n",
       "  </tbody>\n",
       "</table>\n",
       "</div>"
      ],
      "text/plain": [
       "     rental_duration  rental_rate  length  amount  trailers  \\\n",
       "741                4         4.99     110    4.99         1   \n",
       "681                6         2.99      73    4.99         1   \n",
       "628                3         0.99     128    2.99         0   \n",
       "225                4         0.99      68    9.99         0   \n",
       "861                7         0.99     144    4.99         0   \n",
       "\n",
       "     behind_the_scenes  commentaries  deleted_scenes  \n",
       "741                  0             0               0  \n",
       "681                  0             0               0  \n",
       "628                  0             0               0  \n",
       "225                  0             0               0  \n",
       "861                  0             0               0  "
      ]
     },
     "execution_count": 17,
     "metadata": {},
     "output_type": "execute_result"
    }
   ],
   "source": [
    "num_train = X_train.select_dtypes(np.number)\n",
    "num_test = X_test.select_dtypes(np.number)\n",
    "num_train.head()"
   ]
  },
  {
   "cell_type": "code",
   "execution_count": null,
   "id": "e613be97",
   "metadata": {},
   "outputs": [],
   "source": []
  },
  {
   "cell_type": "code",
   "execution_count": 18,
   "id": "8604fb66",
   "metadata": {},
   "outputs": [
    {
     "data": {
      "text/html": [
       "<div>\n",
       "<style scoped>\n",
       "    .dataframe tbody tr th:only-of-type {\n",
       "        vertical-align: middle;\n",
       "    }\n",
       "\n",
       "    .dataframe tbody tr th {\n",
       "        vertical-align: top;\n",
       "    }\n",
       "\n",
       "    .dataframe thead th {\n",
       "        text-align: right;\n",
       "    }\n",
       "</style>\n",
       "<table border=\"1\" class=\"dataframe\">\n",
       "  <thead>\n",
       "    <tr style=\"text-align: right;\">\n",
       "      <th></th>\n",
       "      <th>0</th>\n",
       "      <th>1</th>\n",
       "      <th>2</th>\n",
       "      <th>3</th>\n",
       "      <th>4</th>\n",
       "      <th>5</th>\n",
       "      <th>6</th>\n",
       "      <th>7</th>\n",
       "    </tr>\n",
       "  </thead>\n",
       "  <tbody>\n",
       "    <tr>\n",
       "      <th>0</th>\n",
       "      <td>0.25</td>\n",
       "      <td>1.0</td>\n",
       "      <td>0.460432</td>\n",
       "      <td>0.363636</td>\n",
       "      <td>1.0</td>\n",
       "      <td>0.0</td>\n",
       "      <td>0.0</td>\n",
       "      <td>0.0</td>\n",
       "    </tr>\n",
       "    <tr>\n",
       "      <th>1</th>\n",
       "      <td>0.75</td>\n",
       "      <td>0.5</td>\n",
       "      <td>0.194245</td>\n",
       "      <td>0.363636</td>\n",
       "      <td>1.0</td>\n",
       "      <td>0.0</td>\n",
       "      <td>0.0</td>\n",
       "      <td>0.0</td>\n",
       "    </tr>\n",
       "    <tr>\n",
       "      <th>2</th>\n",
       "      <td>0.00</td>\n",
       "      <td>0.0</td>\n",
       "      <td>0.589928</td>\n",
       "      <td>0.181818</td>\n",
       "      <td>0.0</td>\n",
       "      <td>0.0</td>\n",
       "      <td>0.0</td>\n",
       "      <td>0.0</td>\n",
       "    </tr>\n",
       "    <tr>\n",
       "      <th>3</th>\n",
       "      <td>0.25</td>\n",
       "      <td>0.0</td>\n",
       "      <td>0.158273</td>\n",
       "      <td>0.818182</td>\n",
       "      <td>0.0</td>\n",
       "      <td>0.0</td>\n",
       "      <td>0.0</td>\n",
       "      <td>0.0</td>\n",
       "    </tr>\n",
       "    <tr>\n",
       "      <th>4</th>\n",
       "      <td>1.00</td>\n",
       "      <td>0.0</td>\n",
       "      <td>0.705036</td>\n",
       "      <td>0.363636</td>\n",
       "      <td>0.0</td>\n",
       "      <td>0.0</td>\n",
       "      <td>0.0</td>\n",
       "      <td>0.0</td>\n",
       "    </tr>\n",
       "  </tbody>\n",
       "</table>\n",
       "</div>"
      ],
      "text/plain": [
       "      0    1         2         3    4    5    6    7\n",
       "0  0.25  1.0  0.460432  0.363636  1.0  0.0  0.0  0.0\n",
       "1  0.75  0.5  0.194245  0.363636  1.0  0.0  0.0  0.0\n",
       "2  0.00  0.0  0.589928  0.181818  0.0  0.0  0.0  0.0\n",
       "3  0.25  0.0  0.158273  0.818182  0.0  0.0  0.0  0.0\n",
       "4  1.00  0.0  0.705036  0.363636  0.0  0.0  0.0  0.0"
      ]
     },
     "execution_count": 18,
     "metadata": {},
     "output_type": "execute_result"
    }
   ],
   "source": [
    "from sklearn.preprocessing import MinMaxScaler\n",
    "\n",
    "transformer = MinMaxScaler().fit(num_train)\n",
    "num_train_minmax = transformer.transform(num_train)\n",
    "num_test_minmax = transformer.transform(num_test)\n",
    "pd.DataFrame(num_train_minmax).head()"
   ]
  },
  {
   "cell_type": "code",
   "execution_count": 19,
   "id": "e31b60db",
   "metadata": {},
   "outputs": [],
   "source": [
    "## transforming cats"
   ]
  },
  {
   "cell_type": "code",
   "execution_count": 20,
   "id": "8e8f5a68",
   "metadata": {},
   "outputs": [
    {
     "data": {
      "text/html": [
       "<div>\n",
       "<style scoped>\n",
       "    .dataframe tbody tr th:only-of-type {\n",
       "        vertical-align: middle;\n",
       "    }\n",
       "\n",
       "    .dataframe tbody tr th {\n",
       "        vertical-align: top;\n",
       "    }\n",
       "\n",
       "    .dataframe thead th {\n",
       "        text-align: right;\n",
       "    }\n",
       "</style>\n",
       "<table border=\"1\" class=\"dataframe\">\n",
       "  <thead>\n",
       "    <tr style=\"text-align: right;\">\n",
       "      <th></th>\n",
       "      <th>genre</th>\n",
       "      <th>rating</th>\n",
       "    </tr>\n",
       "  </thead>\n",
       "  <tbody>\n",
       "    <tr>\n",
       "      <th>741</th>\n",
       "      <td>Drama</td>\n",
       "      <td>PG-13</td>\n",
       "    </tr>\n",
       "    <tr>\n",
       "      <th>681</th>\n",
       "      <td>Sci-Fi</td>\n",
       "      <td>NC-17</td>\n",
       "    </tr>\n",
       "    <tr>\n",
       "      <th>628</th>\n",
       "      <td>Travel</td>\n",
       "      <td>PG</td>\n",
       "    </tr>\n",
       "    <tr>\n",
       "      <th>225</th>\n",
       "      <td>Comedy</td>\n",
       "      <td>R</td>\n",
       "    </tr>\n",
       "    <tr>\n",
       "      <th>861</th>\n",
       "      <td>Classics</td>\n",
       "      <td>NC-17</td>\n",
       "    </tr>\n",
       "  </tbody>\n",
       "</table>\n",
       "</div>"
      ],
      "text/plain": [
       "        genre rating\n",
       "741     Drama  PG-13\n",
       "681    Sci-Fi  NC-17\n",
       "628    Travel     PG\n",
       "225    Comedy      R\n",
       "861  Classics  NC-17"
      ]
     },
     "execution_count": 20,
     "metadata": {},
     "output_type": "execute_result"
    }
   ],
   "source": [
    "cat_train= X_train.select_dtypes(object)\n",
    "cat_test= X_test.select_dtypes(object)\n",
    "cat_train.head()"
   ]
  },
  {
   "cell_type": "code",
   "execution_count": 21,
   "id": "6c34c0dc",
   "metadata": {},
   "outputs": [
    {
     "data": {
      "text/html": [
       "<div>\n",
       "<style scoped>\n",
       "    .dataframe tbody tr th:only-of-type {\n",
       "        vertical-align: middle;\n",
       "    }\n",
       "\n",
       "    .dataframe tbody tr th {\n",
       "        vertical-align: top;\n",
       "    }\n",
       "\n",
       "    .dataframe thead th {\n",
       "        text-align: right;\n",
       "    }\n",
       "</style>\n",
       "<table border=\"1\" class=\"dataframe\">\n",
       "  <thead>\n",
       "    <tr style=\"text-align: right;\">\n",
       "      <th></th>\n",
       "      <th>0</th>\n",
       "      <th>1</th>\n",
       "      <th>2</th>\n",
       "      <th>3</th>\n",
       "      <th>4</th>\n",
       "      <th>5</th>\n",
       "      <th>6</th>\n",
       "      <th>7</th>\n",
       "      <th>8</th>\n",
       "      <th>9</th>\n",
       "      <th>10</th>\n",
       "      <th>11</th>\n",
       "      <th>12</th>\n",
       "      <th>13</th>\n",
       "      <th>14</th>\n",
       "      <th>15</th>\n",
       "      <th>16</th>\n",
       "      <th>17</th>\n",
       "      <th>18</th>\n",
       "    </tr>\n",
       "  </thead>\n",
       "  <tbody>\n",
       "    <tr>\n",
       "      <th>0</th>\n",
       "      <td>0.0</td>\n",
       "      <td>0.0</td>\n",
       "      <td>0.0</td>\n",
       "      <td>0.0</td>\n",
       "      <td>0.0</td>\n",
       "      <td>1.0</td>\n",
       "      <td>0.0</td>\n",
       "      <td>0.0</td>\n",
       "      <td>0.0</td>\n",
       "      <td>0.0</td>\n",
       "      <td>0.0</td>\n",
       "      <td>0.0</td>\n",
       "      <td>0.0</td>\n",
       "      <td>0.0</td>\n",
       "      <td>0.0</td>\n",
       "      <td>0.0</td>\n",
       "      <td>0.0</td>\n",
       "      <td>1.0</td>\n",
       "      <td>0.0</td>\n",
       "    </tr>\n",
       "    <tr>\n",
       "      <th>1</th>\n",
       "      <td>0.0</td>\n",
       "      <td>0.0</td>\n",
       "      <td>0.0</td>\n",
       "      <td>0.0</td>\n",
       "      <td>0.0</td>\n",
       "      <td>0.0</td>\n",
       "      <td>0.0</td>\n",
       "      <td>0.0</td>\n",
       "      <td>0.0</td>\n",
       "      <td>0.0</td>\n",
       "      <td>0.0</td>\n",
       "      <td>0.0</td>\n",
       "      <td>1.0</td>\n",
       "      <td>0.0</td>\n",
       "      <td>0.0</td>\n",
       "      <td>1.0</td>\n",
       "      <td>0.0</td>\n",
       "      <td>0.0</td>\n",
       "      <td>0.0</td>\n",
       "    </tr>\n",
       "    <tr>\n",
       "      <th>2</th>\n",
       "      <td>0.0</td>\n",
       "      <td>0.0</td>\n",
       "      <td>0.0</td>\n",
       "      <td>0.0</td>\n",
       "      <td>0.0</td>\n",
       "      <td>0.0</td>\n",
       "      <td>0.0</td>\n",
       "      <td>0.0</td>\n",
       "      <td>0.0</td>\n",
       "      <td>0.0</td>\n",
       "      <td>0.0</td>\n",
       "      <td>0.0</td>\n",
       "      <td>0.0</td>\n",
       "      <td>0.0</td>\n",
       "      <td>1.0</td>\n",
       "      <td>0.0</td>\n",
       "      <td>1.0</td>\n",
       "      <td>0.0</td>\n",
       "      <td>0.0</td>\n",
       "    </tr>\n",
       "    <tr>\n",
       "      <th>3</th>\n",
       "      <td>0.0</td>\n",
       "      <td>0.0</td>\n",
       "      <td>0.0</td>\n",
       "      <td>1.0</td>\n",
       "      <td>0.0</td>\n",
       "      <td>0.0</td>\n",
       "      <td>0.0</td>\n",
       "      <td>0.0</td>\n",
       "      <td>0.0</td>\n",
       "      <td>0.0</td>\n",
       "      <td>0.0</td>\n",
       "      <td>0.0</td>\n",
       "      <td>0.0</td>\n",
       "      <td>0.0</td>\n",
       "      <td>0.0</td>\n",
       "      <td>0.0</td>\n",
       "      <td>0.0</td>\n",
       "      <td>0.0</td>\n",
       "      <td>1.0</td>\n",
       "    </tr>\n",
       "    <tr>\n",
       "      <th>4</th>\n",
       "      <td>0.0</td>\n",
       "      <td>0.0</td>\n",
       "      <td>1.0</td>\n",
       "      <td>0.0</td>\n",
       "      <td>0.0</td>\n",
       "      <td>0.0</td>\n",
       "      <td>0.0</td>\n",
       "      <td>0.0</td>\n",
       "      <td>0.0</td>\n",
       "      <td>0.0</td>\n",
       "      <td>0.0</td>\n",
       "      <td>0.0</td>\n",
       "      <td>0.0</td>\n",
       "      <td>0.0</td>\n",
       "      <td>0.0</td>\n",
       "      <td>1.0</td>\n",
       "      <td>0.0</td>\n",
       "      <td>0.0</td>\n",
       "      <td>0.0</td>\n",
       "    </tr>\n",
       "  </tbody>\n",
       "</table>\n",
       "</div>"
      ],
      "text/plain": [
       "    0    1    2    3    4    5    6    7    8    9    10   11   12   13   14  \\\n",
       "0  0.0  0.0  0.0  0.0  0.0  1.0  0.0  0.0  0.0  0.0  0.0  0.0  0.0  0.0  0.0   \n",
       "1  0.0  0.0  0.0  0.0  0.0  0.0  0.0  0.0  0.0  0.0  0.0  0.0  1.0  0.0  0.0   \n",
       "2  0.0  0.0  0.0  0.0  0.0  0.0  0.0  0.0  0.0  0.0  0.0  0.0  0.0  0.0  1.0   \n",
       "3  0.0  0.0  0.0  1.0  0.0  0.0  0.0  0.0  0.0  0.0  0.0  0.0  0.0  0.0  0.0   \n",
       "4  0.0  0.0  1.0  0.0  0.0  0.0  0.0  0.0  0.0  0.0  0.0  0.0  0.0  0.0  0.0   \n",
       "\n",
       "    15   16   17   18  \n",
       "0  0.0  0.0  1.0  0.0  \n",
       "1  1.0  0.0  0.0  0.0  \n",
       "2  0.0  1.0  0.0  0.0  \n",
       "3  0.0  0.0  0.0  1.0  \n",
       "4  1.0  0.0  0.0  0.0  "
      ]
     },
     "execution_count": 21,
     "metadata": {},
     "output_type": "execute_result"
    }
   ],
   "source": [
    "from sklearn.preprocessing import OneHotEncoder\n",
    "\n",
    "ohe = OneHotEncoder(handle_unknown='error', drop='first').fit(cat_train) \n",
    "# handle_unknown='error' fuer unvorhergesehene kategorien\n",
    "cat_train_ohe = ohe.transform(cat_train).toarray()\n",
    "cat_test_ohe = ohe.transform(cat_test).toarray()\n",
    "pd.DataFrame(cat_train_ohe).head()"
   ]
  },
  {
   "cell_type": "code",
   "execution_count": 24,
   "id": "aa1da35d",
   "metadata": {},
   "outputs": [],
   "source": [
    "## concatinating them together\n",
    "X_train = np.concatenate((num_train_minmax,cat_train_ohe),axis=1)\n",
    "X_test = np.concatenate((num_test_minmax,cat_test_ohe),axis=1)"
   ]
  },
  {
   "cell_type": "code",
   "execution_count": null,
   "id": "f8a8cbf9",
   "metadata": {},
   "outputs": [],
   "source": []
  },
  {
   "cell_type": "code",
   "execution_count": 25,
   "id": "c9d42687",
   "metadata": {},
   "outputs": [],
   "source": [
    "# 5.\n",
    "# Create a logistic regression model to predict this variable from the cleaned data."
   ]
  },
  {
   "cell_type": "code",
   "execution_count": 26,
   "id": "bdb92149",
   "metadata": {},
   "outputs": [],
   "source": [
    "from sklearn.linear_model import LogisticRegression\n",
    "\n",
    "classification = LogisticRegression(random_state=0, solver='saga').fit(X_train, y_train)"
   ]
  },
  {
   "cell_type": "code",
   "execution_count": 27,
   "id": "37d5e7ba",
   "metadata": {},
   "outputs": [],
   "source": [
    "# 6.\n",
    "# Evaluate the results."
   ]
  },
  {
   "cell_type": "code",
   "execution_count": 28,
   "id": "9bea4359",
   "metadata": {},
   "outputs": [
    {
     "data": {
      "text/plain": [
       "array([0, 0, 0, 0, 0, 0, 0, 0, 0, 0, 0, 0, 0, 0, 0, 0, 0, 0, 0, 0, 0, 0,\n",
       "       0, 0, 0, 0, 0, 0, 0, 0, 0, 0, 0, 0, 0, 0, 0, 0, 0, 0, 0, 0, 0, 0,\n",
       "       0, 0, 0, 0, 0, 0, 0, 0, 1, 0, 0, 0, 0, 0, 0, 0, 0, 0, 0, 0, 0, 0,\n",
       "       0, 0, 0, 0, 0, 0, 0, 0, 0, 0, 0, 0, 0, 0, 0, 0, 0, 0, 0, 0, 0, 0,\n",
       "       0, 0, 0, 0, 0, 0, 0, 0, 0, 0, 0, 0, 0, 0, 0, 0, 0, 0, 0, 0, 0, 0,\n",
       "       0, 0, 0, 0, 0, 0, 0, 0, 0, 0, 0, 0, 0, 0, 0, 0, 0, 0, 0, 0, 0, 0,\n",
       "       0, 0, 0, 0, 0, 0, 0, 0, 0, 0, 0, 0, 0, 0, 0, 0, 0, 0, 0, 0, 0, 0,\n",
       "       0, 0, 0, 0, 0, 0, 0, 0, 0, 0, 0, 0, 0, 0, 0, 0, 0, 0, 0, 0, 0, 0,\n",
       "       0, 0, 0, 0, 0, 0, 0, 0, 0, 0, 0, 0, 0, 0, 0, 0, 0, 0, 0, 0, 0, 0,\n",
       "       0, 0, 0, 0, 0, 0, 0, 0, 0, 0, 0, 0, 0, 0, 0, 0, 0, 0, 0, 0, 0, 0,\n",
       "       0, 0, 0, 0, 0, 0, 0, 0, 0, 0, 0, 0, 0, 0, 0, 0, 0, 0, 0, 0, 0, 0,\n",
       "       0, 0, 0, 0, 0, 0, 0, 0, 0, 0, 0, 0, 0, 0, 0, 0, 0, 0, 0, 0, 0, 0,\n",
       "       0, 0, 0, 0, 0, 0, 0, 0, 0, 0, 0, 0, 0, 0, 0, 0, 0, 0, 0, 0, 0, 0,\n",
       "       0, 0], dtype=int64)"
      ]
     },
     "metadata": {},
     "output_type": "display_data"
    },
    {
     "name": "stdout",
     "output_type": "stream",
     "text": [
      "score:  0.7986111111111112\n"
     ]
    }
   ],
   "source": [
    "predictions = classification.predict(X_test)\n",
    "display(predictions)\n",
    "print('score: ',classification.score(X_test, y_test))"
   ]
  },
  {
   "cell_type": "code",
   "execution_count": 29,
   "id": "d8281dd4",
   "metadata": {},
   "outputs": [
    {
     "data": {
      "text/plain": [
       "array([[230,   1],\n",
       "       [ 57,   0]], dtype=int64)"
      ]
     },
     "execution_count": 29,
     "metadata": {},
     "output_type": "execute_result"
    }
   ],
   "source": [
    "# confusion matrix \n",
    "from sklearn.metrics import confusion_matrix\n",
    "confusion_matrix(y_test, predictions)\n",
    "# 0 - not rented, 1 - rented\n",
    "# because of the imbalance of the target the predictions are in favor of the majority (not rented)"
   ]
  }
 ],
 "metadata": {
  "kernelspec": {
   "display_name": "Python 3 (ipykernel)",
   "language": "python",
   "name": "python3"
  },
  "language_info": {
   "codemirror_mode": {
    "name": "ipython",
    "version": 3
   },
   "file_extension": ".py",
   "mimetype": "text/x-python",
   "name": "python",
   "nbconvert_exporter": "python",
   "pygments_lexer": "ipython3",
   "version": "3.9.12"
  }
 },
 "nbformat": 4,
 "nbformat_minor": 5
}
